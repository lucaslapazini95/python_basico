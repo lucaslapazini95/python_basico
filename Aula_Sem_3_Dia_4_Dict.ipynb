{
  "nbformat": 4,
  "nbformat_minor": 0,
  "metadata": {
    "colab": {
      "provenance": [],
      "authorship_tag": "ABX9TyNqJQl/0rfnGOAZs71QCNUA",
      "include_colab_link": true
    },
    "kernelspec": {
      "name": "python3",
      "display_name": "Python 3"
    },
    "language_info": {
      "name": "python"
    }
  },
  "cells": [
    {
      "cell_type": "markdown",
      "metadata": {
        "id": "view-in-github",
        "colab_type": "text"
      },
      "source": [
        "<a href=\"https://colab.research.google.com/github/lucaslapazini95/python_basico/blob/main/Aula_Sem_3_Dia_4_Dict.ipynb\" target=\"_parent\"><img src=\"https://colab.research.google.com/assets/colab-badge.svg\" alt=\"Open In Colab\"/></a>"
      ]
    },
    {
      "cell_type": "code",
      "execution_count": null,
      "metadata": {
        "id": "5_Mz6WEb0QCP"
      },
      "outputs": [],
      "source": [
        "Índice -> valor\n",
        "\n",
        "chave : valor\n",
        "\n",
        "'str' : 'valor qualquer'\n",
        "\n",
        "'nome' : 'Joaquim da Silva'\n",
        "\n",
        "'telefone' : '(11)0 0000-0000'\n",
        "\n",
        "'cpf' : '666.666.666-33'"
      ]
    },
    {
      "cell_type": "code",
      "source": [
        "#Declarar um dicionário\n",
        "dicionario = {}\n",
        "\n",
        "pessoa = {'nome': 'Joaquim da Silva', 'telefone': '(11)33333-3333', 'cpf':'000.000.000-00'}\n",
        "\n",
        "pessoa['nome']"
      ],
      "metadata": {
        "colab": {
          "base_uri": "https://localhost:8080/",
          "height": 35
        },
        "id": "saNxwKTm2uIp",
        "outputId": "ebf8f7f4-0221-4fe0-e78b-449ca52bac18"
      },
      "execution_count": null,
      "outputs": [
        {
          "output_type": "execute_result",
          "data": {
            "text/plain": [
              "'Joaquim da Silva'"
            ],
            "application/vnd.google.colaboratory.intrinsic+json": {
              "type": "string"
            }
          },
          "metadata": {},
          "execution_count": 2
        }
      ]
    },
    {
      "cell_type": "code",
      "source": [
        "#Criando uma lista de carros\n",
        "\n",
        "lista_carros = [\n",
        "    {'nome': 'Gol', 'modelo': 'G4', 'marca': 'volkswagen'},\n",
        "    {'nome': 'Hylux', 'modelo': 'SW4', 'marca': 'toyota'},\n",
        "    {'nome': 'Corolla', 'modelo': 'XEI', 'marca': 'toyota'},\n",
        "    {'nome': 'Uno', 'modelo': 'Mille', 'marca': 'fiat'}\n",
        "]"
      ],
      "metadata": {
        "id": "xdLth-yUCWhm"
      },
      "execution_count": null,
      "outputs": []
    },
    {
      "cell_type": "code",
      "source": [
        "for valor in lista_carros:\n",
        "  print('Nome:', {valor['nome']})\n",
        "  print('Modelo:', {valor['modelo']})\n",
        "  print('Marca:', {valor['marca']})"
      ],
      "metadata": {
        "colab": {
          "base_uri": "https://localhost:8080/"
        },
        "id": "Jmi7SHEGCXSQ",
        "outputId": "98448ad8-1441-48d7-cfd2-8364b805a103"
      },
      "execution_count": null,
      "outputs": [
        {
          "output_type": "stream",
          "name": "stdout",
          "text": [
            "Nome: {'Gol'}\n",
            "Modelo: {'G4'}\n",
            "Marca: {'volkswagen'}\n",
            "Nome: {'Hylux'}\n",
            "Modelo: {'SW4'}\n",
            "Marca: {'toyota'}\n",
            "Nome: {'Corolla'}\n",
            "Modelo: {'XEI'}\n",
            "Marca: {'toyota'}\n",
            "Nome: {'Uno'}\n",
            "Modelo: {'Mille'}\n",
            "Marca: {'fiat'}\n"
          ]
        }
      ]
    },
    {
      "cell_type": "markdown",
      "source": [
        "Uma família possui 3 filhos, cada um dos filhos deve ser chamado da seguinte maneira: filho1, filho2, filho3. Para cada um devem ter anotados dados sobre o nome, idade, o ano da escola e os cursos que fizeram"
      ],
      "metadata": {
        "id": "S5sT8e9WEWrv"
      }
    },
    {
      "cell_type": "code",
      "source": [
        "lista_filhos = {\n",
        "    'filho1' : {\n",
        "        'nome' : 'Lula da Silva',\n",
        "        'idade': 15,\n",
        "        'ano_escola' : 1,\n",
        "        'cursos' : ['Python', 'Banco de Dados', 'Análise de Dados com Python']\n",
        "    },\n",
        "\n",
        "    'filho2' : {\n",
        "        'nome' : 'Melissa da Silva',\n",
        "        'idade': 16,\n",
        "        'ano_escola' : 2,\n",
        "        'cursos' : ['Java Fullstack', 'Banco de Dados NoSQL']\n",
        "    },\n",
        "\n",
        "   'filho3' : {\n",
        "        'nome' : 'Gonas da Silva',\n",
        "        'idade': 17,\n",
        "        'ano_escola' : 3,\n",
        "        'cursos' : ['Ingles','Análise de Dados com Python']\n",
        "    }"
      ],
      "metadata": {
        "id": "IPJzj1pMEemO"
      },
      "execution_count": null,
      "outputs": []
    },
    {
      "cell_type": "code",
      "source": [
        "print(lista_filhos['filho1'])\n",
        "\n",
        "print(lista_filhos['filho1']['cursos'])\n",
        "\n",
        "print(lista_filhos['filho1']['cursos'][1])"
      ],
      "metadata": {
        "id": "vlnQOaMSFs0H"
      },
      "execution_count": null,
      "outputs": []
    },
    {
      "cell_type": "code",
      "source": [
        "#Criar um dicionário de carro - nome, modelo, fabricante, cor via input\n",
        "#do usuário e depois mostre o dicionário na tela.\n",
        "\n",
        "carro = {}\n",
        "carro['nome'] = input('Digite o nome do carro: ')\n",
        "carro['modelo'] = input('Digite o modelo do carro: ')\n",
        "carro['fabricante'] = input('Digite o fabricante do carro: ')\n",
        "carro['cor'] = input('Digite o cor do carro: ')\n",
        "print(carro)"
      ],
      "metadata": {
        "colab": {
          "base_uri": "https://localhost:8080/"
        },
        "id": "GYyqBXM8elpQ",
        "outputId": "377884a0-990f-40f0-ab23-e4e163f20324"
      },
      "execution_count": null,
      "outputs": [
        {
          "output_type": "stream",
          "name": "stdout",
          "text": [
            "Digite o nome do carro: Bola\n",
            "Digite o modelo do carro: Redonda\n",
            "Digite o fabricante do carro: Gordo\n",
            "Digite o cor do carro: McDolans\n",
            "{'nome': 'Bola', 'modelo': 'Redonda', 'fabricante': 'Gordo', 'cor': 'McDolans'}\n"
          ]
        }
      ]
    },
    {
      "cell_type": "code",
      "source": [
        "# Crie uma lista de N carros que contenha um\n",
        "# dicionário  das características do carro (nome, modelo, fabricante e cor)\n",
        "# via input do usuário e depois mostre o dicionário na tela.\n",
        "# Faça uma verificação se o usuário quer sair ou continuar.\n",
        "\n",
        "lista_carros = []\n",
        "while True:\n",
        "    lista_carros.append({})\n",
        "    lista_carros[-1]['nome'] = input('Digite o nome do carro: ')\n",
        "    lista_carros[-1]['modelo'] = input('Digite o modelo do carro: ')\n",
        "    lista_carros[-1]['fabricante'] = input('Digite o fabricante do carro: ')\n",
        "    lista_carros[-1]['cor'] = input('Digite a cor do carro: ')\n",
        "    if input('Deseja continuar? [S/N] ').upper() == 'N':\n",
        "        break\n",
        "print(lista_carros)"
      ],
      "metadata": {
        "colab": {
          "base_uri": "https://localhost:8080/"
        },
        "id": "lUE21BErt_Eh",
        "outputId": "935ea79c-915a-4a37-9a39-3f8403ceffc4"
      },
      "execution_count": null,
      "outputs": [
        {
          "output_type": "stream",
          "name": "stdout",
          "text": [
            "Digite o nome do carro: Bola\n",
            "Digite o modelo do carro: Redonda\n",
            "Digite o fabricante do carro: Tropa do Gordaum\n",
            "Digite a cor do carro: Batata\n",
            "Digite S para sair ou qualquer tecla para continuar: n\n",
            "Digite o nome do carro: Cabelo\n",
            "Digite o modelo do carro: NaRegua\n",
            "Digite o fabricante do carro: OsLek\n",
            "Digite a cor do carro: Platinado\n",
            "Digite S para sair ou qualquer tecla para continuar: S\n",
            "[{'nome': 'Bola', 'modelo': 'Redonda', 'fabricante': 'Tropa do Gordaum', 'cor': 'Batata'}, {'nome': 'Cabelo', 'modelo': 'NaRegua', 'fabricante': 'OsLek', 'cor': 'Platinado'}]\n"
          ]
        }
      ]
    },
    {
      "cell_type": "code",
      "source": [
        "'''Crie um dicionário para N carros que contenha um\n",
        "dicionário  das características do carro (nome, modelo, fabricante e cor)\n",
        "via input do usuário e depois mostre o dicionário na tela.\n",
        "Faça uma verificação se o usuário quer sair ou continuar.'''\n",
        "\n",
        "carros = {}\n",
        "while True:\n",
        "    # Solicita informações do carro ao usuário\n",
        "    nome = input(\"Digite o nome do carro: \")\n",
        "    modelo = input(\"Digite o modelo do carro: \")\n",
        "    fabricante = input(\"Digite o fabricante do carro: \")\n",
        "    cor = input(\"Digite a cor do carro: \")\n",
        "\n",
        "    # Adiciona as informações do carro ao dicionário\n",
        "    carros[nome] = {\"modelo\": modelo, \"fabricante\": fabricante, \"cor\": cor}\n",
        "\n",
        "    # Pergunta ao usuário se deseja continuar adicionando carros\n",
        "    opcao = input(\"Deseja continuar adicionando carros? (S/N): \")\n",
        "    if opcao.lower() == \"n\":\n",
        "        break\n",
        "\n",
        "# Exibe o dicionário com as informações dos carros\n",
        "print(carros)"
      ],
      "metadata": {
        "id": "kof5Usqrzd6b",
        "colab": {
          "base_uri": "https://localhost:8080/"
        },
        "outputId": "86a088d0-7fbd-4adf-928e-83f23e04ec57"
      },
      "execution_count": null,
      "outputs": [
        {
          "output_type": "stream",
          "name": "stdout",
          "text": [
            "Digite o nome do carro: Gol\n",
            "Digite o modelo do carro: Gol\n",
            "Digite o fabricante do carro: Volks\n",
            "Digite a cor do carro: Prata\n",
            "Deseja continuar adicionando carros? (S/N): s\n",
            "Digite o nome do carro: Palio\n",
            "Digite o modelo do carro: 1.6\n",
            "Digite o fabricante do carro: Fiat\n",
            "Digite a cor do carro: Vermelho\n",
            "Deseja continuar adicionando carros? (S/N): n\n",
            "{'Gol': {'modelo': 'Gol', 'fabricante': 'Volks', 'cor': 'Prata'}, 'Palio': {'modelo': '1.6', 'fabricante': 'Fiat', 'cor': 'Vermelho'}}\n"
          ]
        }
      ]
    },
    {
      "cell_type": "markdown",
      "source": [
        "se eu quiser ver a cor de um carro que coloquei em determinado nome, como faço para visualizar a informação?\n",
        "Para visualizar a cor de um carro específico que você adicionou ao dicionário carros, basta acessar o dicionário usando a chave correspondente ao nome do carro e a chave correspondente à cor. Por exemplo, se você adicionou um carro com o nome \"Fusca\" e a cor \"verde\", você pode visualizar a cor do Fusca com o seguinte código:\n",
        "\n",
        "python\n",
        "Copy code\n",
        "print(carros[\"Fusca\"][\"cor\"])\n",
        "\n",
        "Este código acessa o dicionário carros usando a chave \"Fusca\", que retorna o dicionário com as informações do Fusca (modelo, fabricante e cor). Em seguida, o código acessa o valor correspondente à chave \"cor\", que retorna a cor do Fusca."
      ],
      "metadata": {
        "id": "apFB2o7rRXaK"
      }
    }
  ]
}