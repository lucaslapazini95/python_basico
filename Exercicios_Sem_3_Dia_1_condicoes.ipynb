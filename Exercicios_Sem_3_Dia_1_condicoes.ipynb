{
  "nbformat": 4,
  "nbformat_minor": 0,
  "metadata": {
    "colab": {
      "provenance": [],
      "authorship_tag": "ABX9TyPvYUEtBF0tEvSppRMMwqz2",
      "include_colab_link": true
    },
    "kernelspec": {
      "name": "python3",
      "display_name": "Python 3"
    },
    "language_info": {
      "name": "python"
    }
  },
  "cells": [
    {
      "cell_type": "markdown",
      "metadata": {
        "id": "view-in-github",
        "colab_type": "text"
      },
      "source": [
        "<a href=\"https://colab.research.google.com/github/lucaslapazini95/python_basico/blob/main/Exercicios_Sem_3_Dia_1_condicoes.ipynb\" target=\"_parent\"><img src=\"https://colab.research.google.com/assets/colab-badge.svg\" alt=\"Open In Colab\"/></a>"
      ]
    },
    {
      "cell_type": "markdown",
      "source": [
        "8) Criar um algoritmo em Python que leia um número inteiro entre 1 e 7 e\n",
        "escreva o dia da semana correspondente. Caso o usuário digite um número fora desse\n",
        "intervalo, deverá aparecer uma mensagem informando que não existe dia da semana\n",
        "com esse número."
      ],
      "metadata": {
        "id": "ICFMFGsXSFy9"
      }
    },
    {
      "cell_type": "code",
      "source": [
        "dia = int(input(\"Digite um numero de 1 a 7: \"))\n",
        "if dia == 1:\n",
        "    print(\"Domingo\")\n",
        "elif dia == 2:\n",
        "    print(\"Segunda\")\n",
        "elif dia == 3:\n",
        "    print(\"Terça\")\n",
        "elif dia == 4:\n",
        "    print(\"Quarta\")\n",
        "elif dia == 5:\n",
        "    print(\"Quinta\")\n",
        "elif dia == 6:\n",
        "    print(\"Sexta\")\n",
        "elif dia == 7:\n",
        "    print(\"Sabado\")\n",
        "else:\n",
        "    print(\"Numero invalido\")"
      ],
      "metadata": {
        "colab": {
          "base_uri": "https://localhost:8080/"
        },
        "id": "th2ROO2eSZPQ",
        "outputId": "b0d955be-8e6e-4910-e7d4-cd0e03e047de"
      },
      "execution_count": null,
      "outputs": [
        {
          "output_type": "stream",
          "name": "stdout",
          "text": [
            "Digite um numero de 1 a 7: 7\n",
            "Sabado\n"
          ]
        }
      ]
    },
    {
      "cell_type": "markdown",
      "source": [
        "9) A confederação brasileira de natação\n",
        "irá promover eliminatórias para o próximo mundial.\n",
        "Fazer um algoritmo em Python que receba a idade de um\n",
        "nadador e determine (imprima) a sua categoria\n",
        "segundo a tabela a seguir:\n",
        "- Infantil A 5 – 7 anos\n",
        "- Infantil B 8 – 10 anos\n",
        "- Juvenil A 11 – 13 anos\n",
        "- Juvenil B 14 – 17 anos\n",
        "- Sênior Maiores de 18 anos"
      ],
      "metadata": {
        "id": "_41mTm2-o79u"
      }
    },
    {
      "cell_type": "code",
      "source": [
        "idade = int(input('Digite a idade do nadador: '))\n",
        "if idade >= 5 and idade <= 7:\n",
        "    print('Infantil A')\n",
        "elif idade >= 8 and idade <= 10:\n",
        "    print('Infantil B')\n",
        "elif idade >= 11 and idade <= 13:\n",
        "    print('Juvenil A')\n",
        "elif idade >= 14 and idade <= 17:\n",
        "    print('Juvenil B')\n",
        "elif idade >= 18:\n",
        "    print('Sênior')\n",
        "else:\n",
        "    print('Idade inválida')"
      ],
      "metadata": {
        "id": "oNzG6qszpHY3"
      },
      "execution_count": null,
      "outputs": []
    },
    {
      "cell_type": "markdown",
      "source": [
        "10) Escreva um algoritmo em Python que dada a idade de uma pessoa, determine\n",
        "sua classificação segundo a seguinte tabela:\n",
        "- maior de idade;\n",
        "- menor de idade;\n",
        "- pessoa idosa (idade superior ou igual a 65 anos)."
      ],
      "metadata": {
        "id": "m6LeAxycpLvv"
      }
    },
    {
      "cell_type": "code",
      "source": [
        "age = int(input('Enter your age: '))\n",
        "if age <18:\n",
        "    print('Minor')\n",
        "elif age >= 18 and age < 65:\n",
        "    print('Adult')\n",
        "else:\n",
        "    print('Old')"
      ],
      "metadata": {
        "id": "ZnJOSnRVpyFA"
      },
      "execution_count": null,
      "outputs": []
    },
    {
      "cell_type": "markdown",
      "source": [
        "11) Crie um algoritmo em Python que leia a idade de uma pessoa e informe a sua\n",
        "classe eleitoral:\n",
        "- não eleitor (abaixo de 16 anos);\n",
        "- eleitor obrigatório (entre a faixa de 18 e menor de 65 anos);\n",
        "- eleitor facultativo (de 16 até 18 anos e maior de 65 anos, inclusive)."
      ],
      "metadata": {
        "id": "D8Zb1D50p4c9"
      }
    },
    {
      "cell_type": "code",
      "source": [
        "idade = int(input('Digite sua idade: '))\n",
        "if idade < 16:\n",
        "    print('Não eleitor')\n",
        "elif idade >= 18 and idade < 65:\n",
        "    print('Eleitor obrigatório')\n",
        "else:\n",
        "    print('Eleitor facultativo')"
      ],
      "metadata": {
        "id": "ITQalFJKp93D"
      },
      "execution_count": null,
      "outputs": []
    },
    {
      "cell_type": "markdown",
      "source": [
        "12) Depois da liberação do governo para as mensalidades dos planos de saúde, as pessoas começaram a fazer pesquisas para descobrir um bom plano, não muito caro. Um vendedor de um plano de saúde apresentou a tabela a seguir. Criar um algoritmo em Python que entre com a idade de uma pessoa e imprima o valor que ela deverá pagar, segundo a seguinte tabela:\n",
        "- Até 10 anos = 30 Reais\n",
        "- Acima de 10 até 29 anos = 60 Reais\n",
        "- Acima de 29 até 45 anos = 120 Reais\n",
        "- Acima de 45 até 59 anos  = 150 Reais\n",
        "- Acima de 59 até 65 anos = 250 Reais\n",
        "- Maior que 65 anos = 400 Reais"
      ],
      "metadata": {
        "id": "OYP4QTusqLsg"
      }
    },
    {
      "cell_type": "code",
      "source": [
        "idade = int(input(\"Digite a idade: \"))\n",
        "if idade <= 10:\n",
        "    print(\"Valor a pagar: 30 Reais\")\n",
        "elif idade <= 29:\n",
        "    print(\"Valor a pagar: 60 Reais\")\n",
        "elif idade <= 45:\n",
        "    print(\"Valor a pagar: 120 Reais\")\n",
        "elif idade <= 59:\n",
        "    print(\"Valor a pagar: 150 Reais\")\n",
        "elif idade <= 65:\n",
        "    print(\"Valor a pagar: 250 Reais\")\n",
        "else:\n",
        "    print(\"Valor a pagar: 400 Reais\")"
      ],
      "metadata": {
        "id": "1JR19YUwqVKL"
      },
      "execution_count": null,
      "outputs": []
    },
    {
      "cell_type": "markdown",
      "source": [
        "13) Criar um algoritmo em Python que a partir da idade e peso do paciente calcule a dosagem de determinado medicamento e imprima a receita informando quantas gotas do medicamento o paciente deve tomar por dose. Considere que o medicamento em questão possui 500 mg por ml, e que cada ml corresponde a 20 gotas.\n",
        "- Adultos ou adolescentes desde 12 anos, inclusive, se tiverem peso igual ou\n",
        "acima de 60 quilos devem tomar 1000 mg; com peso abaixo de 60 quilos\n",
        "devem tomar 875 mg.\n",
        "- Para crianças e adolescentes abaixo de 12 anos a dosagem é calculada pelo\n",
        "peso corpóreo conforme a tabela a seguir:\n",
        "  - De 5kg a 9kg = 125mg\n",
        "  - De 9.1kg a 16kg = 250mg\n",
        "  - De 16.1kg a 24kg = 375mg\n",
        "  - De 24.1kg a 30kg = 500mg\n",
        "  - Acima de 30kg = 750mg\n"
      ],
      "metadata": {
        "id": "3WzbaOTDrRg5"
      }
    },
    {
      "cell_type": "code",
      "source": [
        "idade = int(input('Digite a idade do paciente: '))\n",
        "peso = float(input('Digite o peso do paciente: '))\n",
        "gota_por_grama = 20/500\n",
        "\n",
        "if idade >= 12:\n",
        "    if peso >= 60:\n",
        "        gotas = 1000 * gota_por_grama\n",
        "        print(f'O paciente deve tomar {gotas:.0f} gotas')\n",
        "    else:\n",
        "        gotas = 875 * gota_por_grama\n",
        "        print(f'O paciente deve tomar {gotas:.0f} gotas')\n",
        "else:\n",
        "    if peso >= 5 and peso <= 9:\n",
        "        gotas = 125 * gota_por_grama\n",
        "        print(f'O paciente deve tomar {gotas:.0f} gotas')\n",
        "    elif peso >= 9.1 and peso <= 16:\n",
        "        gotas = 250 * gota_por_grama\n",
        "        print(f'O paciente deve tomar {gotas:.0f} gotas')\n",
        "    elif peso >= 16.1 and peso <= 24:\n",
        "        gotas = 375 * gota_por_grama\n",
        "        print(f'O paciente deve tomar {gotas:.0f} gotas')\n",
        "    elif peso >= 24.1 and peso <= 30:\n",
        "        gotas = 500 * gota_por_grama\n",
        "        print(f'O paciente deve tomar {gotas:.0f} gotas')\n",
        "    else:\n",
        "        gotas = 750 * gota_por_grama\n",
        "        print(f'O paciente deve tomar {gotas:.0f} gotas')"
      ],
      "metadata": {
        "colab": {
          "base_uri": "https://localhost:8080/"
        },
        "id": "4yPBYN8RrUwU",
        "outputId": "7399a558-09ed-4ec4-bf53-2c91b4e5705c"
      },
      "execution_count": null,
      "outputs": [
        {
          "output_type": "stream",
          "name": "stdout",
          "text": [
            "Digite a idade do paciente: 15\n",
            "Digite o peso do paciente: 60\n",
            "O paciente deve tomar 40 gotas\n"
          ]
        }
      ]
    },
    {
      "cell_type": "markdown",
      "source": [
        "\n",
        "14) Construa um algoritmo em Python para determinar a situação\n",
        "(APROVADO/EXAME/REPROVADO) de um aluno, dado a sua freqüência (FREQ)\n",
        "(porcentagem de 0% a 100%) e sua nota (NOTA) (nota de 0.0 a 10.0), sendo que:\n",
        "\n",
        "- Frequência até 75% = Reprovado\n",
        "- Frequência entre 75% e 100% e Nota até 3.0 = Reprovado\n",
        "- Frequência entre 75% e 100% e Nota de 3.0 até 7.0 = Exame\n",
        "- Frequência entre 75% e 100% e Nota entre 7.0 e 10.0 = Aprovado\n",
        "\n",
        "\n"
      ],
      "metadata": {
        "id": "iQgQ3TvDvPvj"
      }
    },
    {
      "cell_type": "code",
      "source": [
        "freq = float(input('Digite a frequência do aluno: '))\n",
        "nota = float(input('Digite a nota do aluno: '))\n",
        "if freq <= 75:\n",
        "    print('REPROVADO POR FREQUÊNCIA')\n",
        "elif freq > 75 and freq <= 100:\n",
        "    if nota <= 3:\n",
        "        print('REPROVADO POR NOTA')\n",
        "    elif nota > 3 and nota <= 7:\n",
        "        print('EXAME')\n",
        "    else:\n",
        "        print('APROVADO')"
      ],
      "metadata": {
        "id": "epUqH9_WvAzR"
      },
      "execution_count": null,
      "outputs": []
    }
  ]
}