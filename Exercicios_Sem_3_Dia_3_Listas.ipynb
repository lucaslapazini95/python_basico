{
  "nbformat": 4,
  "nbformat_minor": 0,
  "metadata": {
    "colab": {
      "provenance": [],
      "collapsed_sections": [
        "NC9AlIGqOiOA",
        "d0DgE45mQNUB",
        "4o_c5iONQViC",
        "2G1Gz2wSWBq6",
        "bFYkd18GWNXJ",
        "2voy260IaMSg"
      ],
      "authorship_tag": "ABX9TyO0b4/FRh9awJhHLJH+kH0f",
      "include_colab_link": true
    },
    "kernelspec": {
      "name": "python3",
      "display_name": "Python 3"
    },
    "language_info": {
      "name": "python"
    }
  },
  "cells": [
    {
      "cell_type": "markdown",
      "metadata": {
        "id": "view-in-github",
        "colab_type": "text"
      },
      "source": [
        "<a href=\"https://colab.research.google.com/github/lucaslapazini95/python_basico/blob/main/Exercicios_Sem_3_Dia_3_Listas.ipynb\" target=\"_parent\"><img src=\"https://colab.research.google.com/assets/colab-badge.svg\" alt=\"Open In Colab\"/></a>"
      ]
    },
    {
      "cell_type": "markdown",
      "source": [
        "# 1) Faça um Programa que leia uma lista de 5 números inteiros e mostre-os."
      ],
      "metadata": {
        "id": "NC9AlIGqOiOA"
      }
    },
    {
      "cell_type": "code",
      "execution_count": null,
      "metadata": {
        "id": "ODn_Yt5ysEJC",
        "colab": {
          "base_uri": "https://localhost:8080/"
        },
        "outputId": "c3ca5551-4321-4af1-a242-4a4a0da7571b"
      },
      "outputs": [
        {
          "output_type": "stream",
          "name": "stdout",
          "text": [
            "Digite um número: 5\n",
            "Digite um número: 4\n",
            "Digite um número: 9\n",
            "Digite um número: 8\n",
            "Digite um número: 10\n",
            "[5, 4, 9, 8, 10]\n"
          ]
        }
      ],
      "source": [
        "lista = []\n",
        "for i in range(5):\n",
        "    lista.append(int(input('Digite um número: ')))\n",
        "print(lista)"
      ]
    },
    {
      "cell_type": "markdown",
      "source": [
        "Código do professor"
      ],
      "metadata": {
        "id": "Q-PQe-eRK_2-"
      }
    },
    {
      "cell_type": "code",
      "source": [
        "numeros = []\n",
        "for i in range(len(numeros)):\n",
        "    numeros.append(int(input('Digite um número: ')))\n",
        "print(numeros)"
      ],
      "metadata": {
        "id": "dePPQi1HJhT4"
      },
      "execution_count": null,
      "outputs": []
    },
    {
      "cell_type": "markdown",
      "source": [
        "# 2) Faça um Programa que leia uma lista de 10 números reais e mostre-os na ordem inversa."
      ],
      "metadata": {
        "id": "d0DgE45mQNUB"
      }
    },
    {
      "cell_type": "code",
      "source": [
        "lista = []\n",
        "for i in range(5):\n",
        "    lista.append(float(input('Digite um número: ')))\n",
        "print(lista[::-1])"
      ],
      "metadata": {
        "id": "e_0QBUAbQO4w",
        "colab": {
          "base_uri": "https://localhost:8080/"
        },
        "outputId": "3f5ecb70-2cef-46b5-9f86-a833311a7ff8"
      },
      "execution_count": null,
      "outputs": [
        {
          "output_type": "stream",
          "name": "stdout",
          "text": [
            "Digite um número: 5\n",
            "Digite um número: -5\n",
            "Digite um número: 49\n",
            "Digite um número: 80\n",
            "Digite um número: 70\n",
            "[70.0, 80.0, 49.0, -5.0, 5.0]\n"
          ]
        }
      ]
    },
    {
      "cell_type": "markdown",
      "source": [
        "Código do professor"
      ],
      "metadata": {
        "id": "vtrjZHcRK9me"
      }
    },
    {
      "cell_type": "code",
      "source": [
        "numeros = []\n",
        "for i in range(5):\n",
        "    numeros.append(float(input('Digite um número: ')))\n",
        "numeros.reverse()\n",
        "print (numeros)"
      ],
      "metadata": {
        "id": "NOQhNtLEKyKk"
      },
      "execution_count": null,
      "outputs": []
    },
    {
      "cell_type": "markdown",
      "source": [
        "Versão do Jonathas Carneiro **BOM PARA TRABALHAR NA EMPRESA**"
      ],
      "metadata": {
        "id": "OHrQrheBMYSm"
      }
    },
    {
      "cell_type": "code",
      "source": [
        "numeros = []\n",
        "for i in range(5):\n",
        "    numeros.append(float(input('Digite um número: ')))\n",
        "numeros_reverso=numeros.copy()\n",
        "numeros_reversos.reverse()\n",
        "print (numeros_reversos)"
      ],
      "metadata": {
        "id": "DtRr-U4JMbJ2"
      },
      "execution_count": null,
      "outputs": []
    },
    {
      "cell_type": "markdown",
      "source": [
        "# 3) Faça um Programa que leia 4 notas de aluno e armazene-as dentro de uma lista. Em seguida mostre as notas e a média das notas na tela."
      ],
      "metadata": {
        "id": "4o_c5iONQViC"
      }
    },
    {
      "cell_type": "code",
      "source": [
        "notas = []\n",
        "for i in range(4):\n",
        "    notas.append(float(input(f'Digite a {i+1}ª nota: ')))\n",
        "print(f'Notas: {notas}')\n",
        "print(f'Média: {(notas[0] + notas[1] + notas[2] + notas[3]) / (i+1) }')"
      ],
      "metadata": {
        "colab": {
          "base_uri": "https://localhost:8080/"
        },
        "id": "-cPYPX4MQXxj",
        "outputId": "8746b699-cdd6-4c3f-a3cd-e0e6dd7fa7b3"
      },
      "execution_count": null,
      "outputs": [
        {
          "output_type": "stream",
          "name": "stdout",
          "text": [
            "Digite a 1ª nota: 7\n",
            "Digite a 2ª nota: 8\n",
            "Digite a 3ª nota: 9\n",
            "Digite a 4ª nota: 10\n",
            "Notas: [7.0, 8.0, 9.0, 10.0]\n",
            "Média: 8.5\n"
          ]
        }
      ]
    },
    {
      "cell_type": "markdown",
      "source": [
        "Versão do Copilot"
      ],
      "metadata": {
        "id": "fbPuRlkhRqlX"
      }
    },
    {
      "cell_type": "code",
      "source": [
        "notas = []\n",
        "for i in range(4):\n",
        "    notas.append(float(input(f'Digite a {i+1}ª nota: ')))\n",
        "print(notas)\n",
        "print(f'A média das notas é {sum(notas)/len(notas)}')"
      ],
      "metadata": {
        "id": "dYWV1PezRox_"
      },
      "execution_count": null,
      "outputs": []
    },
    {
      "cell_type": "markdown",
      "source": [
        "Quando usamos o \"for\" com o ***nome da lista***, estamos acessando os **valores**!"
      ],
      "metadata": {
        "id": "-M6OwBqOO9ht"
      }
    },
    {
      "cell_type": "markdown",
      "source": [
        "Versão do professor"
      ],
      "metadata": {
        "id": "Op1stlq4OF-N"
      }
    },
    {
      "cell_type": "code",
      "source": [
        "notas = []\n",
        "soma = 0\n",
        "\n",
        "for i in range(4):\n",
        "    nota = float(input(f'Digite a {i+1}ª nota: '))\n",
        "\n",
        "    notas.append(nota)\n",
        "\n",
        "for conteudo in notas:\n",
        "  soma += conteudo\n",
        "\n",
        "media = soma/len(notas)\n",
        "\n",
        "print(notas)\n",
        "print(f'A média das notas é {media:.2f}')"
      ],
      "metadata": {
        "id": "3pL4XreCOEQh"
      },
      "execution_count": null,
      "outputs": []
    },
    {
      "cell_type": "markdown",
      "source": [
        "# 4) Faça um Programa que leia 20 números inteiros e armazene-os numa lista. Em seguida, crie mais 2 listas, uma para armazenar os números pares e outra para armazenar os números impares. Ao final, Imprima as três listas."
      ],
      "metadata": {
        "id": "2G1Gz2wSWBq6"
      }
    },
    {
      "cell_type": "code",
      "source": [
        "lista = []\n",
        "pares = []\n",
        "impares = []\n",
        "\n",
        "for i in range(20):\n",
        "    lista.append(int(input('Digite um número: ')))\n",
        "for i in range (20):\n",
        "    if lista[i] % 2 == 0:\n",
        "        pares.append(lista[i])\n",
        "    else:\n",
        "        impares.append(lista[i])\n",
        "print(lista)\n",
        "print(pares)\n",
        "print(impares)"
      ],
      "metadata": {
        "id": "SGacqrQNWFkt"
      },
      "execution_count": null,
      "outputs": []
    },
    {
      "cell_type": "markdown",
      "source": [
        "# 5) Faça um Programa que peça as quatro notas de 10 alunos junto com o seu nome. Calcule e armazene numa lista a média de cada aluno, bem como em outra lista armazene o nome do aluno. Ao final imprima o número de alunos com média maior ou igual a 7.0 junto com o seu nome e a média."
      ],
      "metadata": {
        "id": "bFYkd18GWNXJ"
      }
    },
    {
      "cell_type": "code",
      "source": [
        "lista_nome = []\n",
        "lista_notas = []\n",
        "lista_media = []\n",
        "lista_aprovados = []\n",
        "\n",
        "for i in range(3):\n",
        "    nome = input('Digite o nome do aluno: ')\n",
        "    lista_nome.append(nome)\n",
        "    lista_notas.append([])\n",
        "    for j in range(4):\n",
        "        nota = float(input(f'Digite a {j+1}ª nota: '))\n",
        "        lista_notas[i].append(nota)\n",
        "    media = sum(lista_notas[i]) / len(lista_notas[i])\n",
        "    lista_media.append(media)\n",
        "    if media >= 7:\n",
        "        lista_aprovados.append([nome, media])\n",
        "\n",
        "print('Alunos aprovados:')\n",
        "for aluno in lista_aprovados:\n",
        "    print(f'Nome: {aluno[0]} - Média: {aluno[1]}')"
      ],
      "metadata": {
        "colab": {
          "base_uri": "https://localhost:8080/"
        },
        "id": "yWVcof4kWkPh",
        "outputId": "f08e0a42-65d9-4c8e-c5c0-2be7d5ffb87e"
      },
      "execution_count": null,
      "outputs": [
        {
          "output_type": "stream",
          "name": "stdout",
          "text": [
            "Digite o nome do aluno: poi\n",
            "Digite a 1ª nota: 4\n",
            "Digite a 2ª nota: 5\n",
            "Digite a 3ª nota: 10\n",
            "Digite a 4ª nota: 10\n",
            "Digite o nome do aluno: mamao\n",
            "Digite a 1ª nota: 7\n",
            "Digite a 2ª nota: 9\n",
            "Digite a 3ª nota: 1\n",
            "Digite a 4ª nota: 5\n",
            "Digite o nome do aluno: açucre\n",
            "Digite a 1ª nota: 9\n",
            "Digite a 2ª nota: 6\n",
            "Digite a 3ª nota: 8\n",
            "Digite a 4ª nota: 7\n",
            "Alunos aprovados:\n",
            "Nome: poi - Média: 7.25\n",
            "Nome: açucre - Média: 7.5\n"
          ]
        }
      ]
    },
    {
      "cell_type": "markdown",
      "source": [
        "Código do Copilot"
      ],
      "metadata": {
        "id": "sOuumGqbyhVA"
      }
    },
    {
      "cell_type": "code",
      "source": [
        "lista_nomes = []\n",
        "lista_notas = []\n",
        "lista_medias = []\n",
        "lista_aprovados = []\n",
        "\n",
        "for i in range(3):\n",
        "    nome = input('Digite o nome do aluno: ')\n",
        "    lista_nomes.append(nome)\n",
        "    lista_notas.append([])\n",
        "    for j in range(4):\n",
        "        nota = float(input('Digite a nota: '))\n",
        "        lista_notas[i].append(nota)\n",
        "    media = sum(lista_notas[i]) / len(lista_notas[i])\n",
        "    lista_medias.append(media)\n",
        "    if media >= 7:\n",
        "        lista_aprovados.append(nome)\n",
        "\n",
        "print('Aprovados: ', lista_aprovados)"
      ],
      "metadata": {
        "id": "ig7_NuOdykcP"
      },
      "execution_count": null,
      "outputs": []
    },
    {
      "cell_type": "markdown",
      "source": [
        "Código do professor **MUITO MAIS SIMPLES CARA!**"
      ],
      "metadata": {
        "id": "g3YipoSnXrPu"
      }
    },
    {
      "cell_type": "code",
      "source": [
        "nome_alunos = []\n",
        "media_alunos = []\n",
        "soma_notas = 0\n",
        "\n",
        "for i in range(10):\n",
        "  soma_notas = 0\n",
        "  nome_alunos.append(input(f'Digite o nome do {i+1}º aluno: '))\n",
        "  for j in range(4):\n",
        "    nota = float (input(f'Digite a {j+1}ª nota do {i+1}º aluno: '))\n",
        "    soma_notas+=nota\n",
        "  media = soma_notas / 4\n",
        "  media_alunos.append(media)"
      ],
      "metadata": {
        "id": "EAf6YLAkWeyT"
      },
      "execution_count": null,
      "outputs": []
    },
    {
      "cell_type": "markdown",
      "source": [
        "# 6) Faça um Programa que leia uma lista de 5 números inteiros. Após, percorra a lista e calcule a soma e a multiplicação dos números. Ao final, mostre os números lidos, a soma dos números e a multiplicação entre eles."
      ],
      "metadata": {
        "id": "nz65NVQGZQKI"
      }
    },
    {
      "cell_type": "code",
      "source": [
        "lista = []\n",
        "soma = 0\n",
        "multiplicacao = 1\n",
        "\n",
        "for i in range(5):\n",
        "    lista.append(int(input(f'Digite o {i+1}º número: ')))\n",
        "    soma += lista[i]\n",
        "    multiplicacao *= lista[i]\n",
        "\n",
        "print(f'Os números digitados foram: {lista}')\n",
        "print(f'A soma dos números é: {soma}')\n",
        "print(f'A multiplicação dos números é: {multiplicacao}')3"
      ],
      "metadata": {
        "colab": {
          "base_uri": "https://localhost:8080/"
        },
        "id": "39SQDKQmZSbF",
        "outputId": "6ac2f218-e92c-4f39-d99f-740089bd2e5f"
      },
      "execution_count": null,
      "outputs": [
        {
          "output_type": "stream",
          "name": "stdout",
          "text": [
            "Digite o 1º número: 4\n",
            "Digite o 2º número: 5\n",
            "Digite o 3º número: 6\n",
            "Digite o 4º número: 1\n",
            "Digite o 5º número: 2\n",
            "Os números digitados foram: [4, 5, 6, 1, 2]\n",
            "A soma dos números é: 18\n",
            "A multiplicação dos números é: 240\n"
          ]
        }
      ]
    },
    {
      "cell_type": "markdown",
      "source": [
        "# 7) Faça um Programa que leia uma lista A com 10 números inteiros, calcule e mostre a soma dos quadrados dos elementos da lista."
      ],
      "metadata": {
        "id": "2voy260IaMSg"
      }
    },
    {
      "cell_type": "code",
      "source": [
        "lista = []\n",
        "soma = 0\n",
        "\n",
        "for i in range(3):\n",
        "    lista.append(int(input(f'Digite o {i+1}º número: ')))\n",
        "    soma += (lista[i]*lista[i])\n",
        "print(f'A soma dos quadrados da lista é {soma}')"
      ],
      "metadata": {
        "colab": {
          "base_uri": "https://localhost:8080/"
        },
        "id": "iRb3ONbVaYzo",
        "outputId": "7650e1da-fca8-47c6-8c36-fe0b8fd16872"
      },
      "execution_count": null,
      "outputs": [
        {
          "output_type": "stream",
          "name": "stdout",
          "text": [
            "Digite o 1º número: 1\n",
            "Digite o 2º número: 2\n",
            "Digite o 3º número: 3\n",
            "A soma dos quadrados da lista é 14\n"
          ]
        }
      ]
    },
    {
      "cell_type": "markdown",
      "source": [
        "# 8) Faça um programa que leia o nome, a idade e a altura de 10 alunos da SoulCode. Em seguida determine quantos alunos com mais de 13 anos possuem altura inferior à média de altura desses alunos."
      ],
      "metadata": {
        "id": "QYuJkIwSbduM"
      }
    },
    {
      "cell_type": "code",
      "source": [
        "lista_nomes = []\n",
        "lista_idades = []\n",
        "lista_alturas = []"
      ],
      "metadata": {
        "id": "iHC6pjbWcjjZ"
      },
      "execution_count": null,
      "outputs": []
    },
    {
      "cell_type": "markdown",
      "source": [
        "# 9) Escreva um algoritmo em python que leia um número N positivo e preencha uma lista com os N primeiros números da sequência de Fibonacci"
      ],
      "metadata": {
        "id": "xPEXJ_8Xcj3P"
      }
    },
    {
      "cell_type": "code",
      "source": [
        "while True:\n",
        "    try:\n",
        "        n = int(input('Digite um número inteiro positivo: '))\n",
        "        if n > 0:\n",
        "            break\n",
        "        else:\n",
        "            print('O número deve ser positivo!')\n",
        "    except ValueError:\n",
        "        print('Digite um número inteiro!')\n",
        "\n",
        "lista_fibonacci = [0, 1]\n",
        "for i in range(n-2):\n",
        "    lista_fibonacci.append(lista_fibonacci[-1] + lista_fibonacci[-2])\n",
        "print(lista_fibonacci)"
      ],
      "metadata": {
        "colab": {
          "base_uri": "https://localhost:8080/"
        },
        "id": "hdNOO4MGcpyu",
        "outputId": "8bd60fef-6856-4ed8-f68e-aab95b2b33de"
      },
      "execution_count": null,
      "outputs": [
        {
          "output_type": "stream",
          "name": "stdout",
          "text": [
            "Digite um número inteiro positivo: 1\n",
            "[0, 1]\n"
          ]
        }
      ]
    },
    {
      "cell_type": "markdown",
      "source": [
        "Versão do Copilot"
      ],
      "metadata": {
        "id": "i8bK6LbquR98"
      }
    },
    {
      "cell_type": "code",
      "source": [
        "while True:\n",
        "    try:\n",
        "        n = int(input('Digite um número inteiro positivo: '))\n",
        "        if n > 0:\n",
        "            break\n",
        "        else:\n",
        "            print('O número deve ser positivo!')\n",
        "    except ValueError:\n",
        "        print('Digite um número inteiro!')\n",
        "\n",
        "lista_fibonacci = [0, 1]\n",
        "for i in range(2, n):\n",
        "    lista_fibonacci.append(lista_fibonacci[i-1] + lista_fibonacci[i-2])\n",
        "\n",
        "print(lista_fibonacci)"
      ],
      "metadata": {
        "colab": {
          "base_uri": "https://localhost:8080/"
        },
        "id": "lt-O37vduT_X",
        "outputId": "5dca1fb2-8945-48c1-9807-eff7b187ada4"
      },
      "execution_count": null,
      "outputs": [
        {
          "output_type": "stream",
          "name": "stdout",
          "text": [
            "Digite um número inteiro positivo: 1\n",
            "[0, 1]\n"
          ]
        }
      ]
    }
  ]
}