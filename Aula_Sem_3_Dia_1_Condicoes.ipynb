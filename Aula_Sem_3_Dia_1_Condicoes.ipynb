{
  "nbformat": 4,
  "nbformat_minor": 0,
  "metadata": {
    "colab": {
      "provenance": [],
      "collapsed_sections": [
        "gwVOa44lC53v",
        "_O8qgFr7DPIA",
        "HQxB58D2D-Nt",
        "PUCESwEJFgX1"
      ],
      "authorship_tag": "ABX9TyPGYpRc/htFIVO7aBlUln/j",
      "include_colab_link": true
    },
    "kernelspec": {
      "name": "python3",
      "display_name": "Python 3"
    },
    "language_info": {
      "name": "python"
    }
  },
  "cells": [
    {
      "cell_type": "markdown",
      "metadata": {
        "id": "view-in-github",
        "colab_type": "text"
      },
      "source": [
        "<a href=\"https://colab.research.google.com/github/lucaslapazini95/python_basico/blob/main/Aula_Sem_3_Dia_1_Condicoes.ipynb\" target=\"_parent\"><img src=\"https://colab.research.google.com/assets/colab-badge.svg\" alt=\"Open In Colab\"/></a>"
      ]
    },
    {
      "cell_type": "code",
      "execution_count": null,
      "metadata": {
        "colab": {
          "base_uri": "https://localhost:8080/"
        },
        "id": "HgZ_lhrgw-Om",
        "outputId": "ded49771-9064-45a7-aa56-32b281399a83"
      },
      "outputs": [
        {
          "output_type": "stream",
          "name": "stdout",
          "text": [
            "Digite um número qualquer 10.5\n",
            "o número é maior que 10\n"
          ]
        }
      ],
      "source": [
        "#Faça um algoritmo que leia um número inteiro e diga se ele é maior, menor ou igual a 10\n",
        "\n",
        "n = float(input('Digite um número qualquer '))\n",
        "\n",
        "if n == 10:\n",
        "  print('O número é igual a 10')\n",
        "\n",
        "else:\n",
        "  if n > 10:\n",
        "    print ('o número é maior que 10')\n",
        "  else:\n",
        "    print ('o número é menor que 10')"
      ]
    },
    {
      "cell_type": "code",
      "source": [
        "#Faça um algoritimo que leia dois números inteiros e apresente na tela o maior deles ou se eles são iguais\n",
        "\n",
        "n1 = float(input('Digite um número qualquer '))\n",
        "n2 = float(input('Digite outro número qualquer '))\n",
        "\n",
        "if n1 != n2:\n",
        "  if n1>n2:\n",
        "    print(f'{n1:.2f} é maior que {n2:.2f}')\n",
        "  else:\n",
        "    print(f'{n2:.2f} é maior que {n1:.2f}')\n",
        "else:\n",
        "  print('Os números são iguais')"
      ],
      "metadata": {
        "colab": {
          "base_uri": "https://localhost:8080/"
        },
        "id": "q4DWWIw03hov",
        "outputId": "fc0e58ce-b9f1-4d45-8145-c0a1c1d8237e"
      },
      "execution_count": null,
      "outputs": [
        {
          "output_type": "stream",
          "name": "stdout",
          "text": [
            "Digite um número qualquer 5\n",
            "Digite outro número qualquer 40\n",
            "40.00 é maior que 5.00\n"
          ]
        }
      ]
    },
    {
      "cell_type": "markdown",
      "source": [],
      "metadata": {
        "id": "dr2ptQaFFdwT"
      }
    },
    {
      "cell_type": "code",
      "source": [
        "#1) Crie um algoritmo que leia um número e diga se ele está no intervalo fechado entre 25 e 200.\n",
        "\n",
        "num = float(input('Digite um número qualquer '))\n",
        "\n",
        "if num >= 25 and num <= 200:\n",
        "  print(f'{num} está entre 25 e 200')\n",
        "else:\n",
        "  print(f'{num} não está entre 25 e 200')"
      ],
      "metadata": {
        "colab": {
          "base_uri": "https://localhost:8080/"
        },
        "id": "ncadpvfO_YSc",
        "outputId": "4f48ad5f-23d1-4c16-d8cb-6c28ed4b8cec"
      },
      "execution_count": null,
      "outputs": [
        {
          "output_type": "stream",
          "name": "stdout",
          "text": [
            "Digite um número qualquer 24\n",
            "24.0 não está entre 25 e 200\n"
          ]
        }
      ]
    },
    {
      "cell_type": "markdown",
      "source": [
        "# Dá para melhorar essa 2"
      ],
      "metadata": {
        "id": "gwVOa44lC53v"
      }
    },
    {
      "cell_type": "code",
      "source": [
        "#2) Crie um algoritmo que leia 5 números e informe na tela o maior número lido.\n",
        "num1 = float(input('Digite um número '))\n",
        "num2 = float(input('Digite um número '))\n",
        "num3 = float(input('Digite um número '))\n",
        "num4 = float(input('Digite um número '))\n",
        "num5 = float(input('Digite um número '))\n",
        "\n",
        "maior = n1\n",
        "\n",
        "if num2 > maior:\n",
        "  maior = num2\n",
        "if num3 > maior:\n",
        "  maior = num3\n",
        "if num4 > maior:\n",
        "  maior = num4\n",
        "if num5 > maior:\n",
        "  maior = num5\n",
        "\n",
        "print(f'{maior} é o maior número')"
      ],
      "metadata": {
        "colab": {
          "base_uri": "https://localhost:8080/"
        },
        "id": "CnkLYhMHBEGB",
        "outputId": "0787cd63-972d-493c-f9f6-46303ac0f28f"
      },
      "execution_count": null,
      "outputs": [
        {
          "output_type": "stream",
          "name": "stdout",
          "text": [
            "Digite um número 4\n",
            "Digite um número 5\n",
            "Digite um número 6\n",
            "Digite um número 7\n",
            "Digite um número 3\n",
            "7.0 é o maior número\n"
          ]
        }
      ]
    },
    {
      "cell_type": "markdown",
      "source": [
        "# Número 3"
      ],
      "metadata": {
        "id": "_O8qgFr7DPIA"
      }
    },
    {
      "cell_type": "code",
      "source": [
        "#3) Crie um algoritmo que leia um número e informe na tela se o mesmo é positivo. Caso seja, mostre o número na tela.\n",
        "\n",
        "numero1 = float(input('Digite um número qualquer '))\n",
        "\n",
        "if numero1 > 0:\n",
        "  print(f'o número {numero1} é positivo')"
      ],
      "metadata": {
        "colab": {
          "base_uri": "https://localhost:8080/"
        },
        "id": "G6FJWmQeDMWz",
        "outputId": "1758ec6d-6807-4e0b-c857-3bc865ea6e21"
      },
      "execution_count": null,
      "outputs": [
        {
          "output_type": "stream",
          "name": "stdout",
          "text": [
            "Digite um número qualquer 5\n",
            "o número 5.0 é positivo\n"
          ]
        }
      ]
    },
    {
      "cell_type": "markdown",
      "source": [
        "# Número 4"
      ],
      "metadata": {
        "id": "HQxB58D2D-Nt"
      }
    },
    {
      "cell_type": "code",
      "source": [
        "#4) Crie um algoritmo que leia um número e informe se ele é divisível por 7.\n",
        "\n",
        "n7 = float(input('Digite um número qualquer '))\n",
        "\n",
        "if n7 % 7 == 0:\n",
        "  print(f'{n7} é divisível por 7')"
      ],
      "metadata": {
        "colab": {
          "base_uri": "https://localhost:8080/"
        },
        "id": "jGOeWKVVEAQT",
        "outputId": "73fd7e8a-5278-4419-bb13-db87a2488e48"
      },
      "execution_count": null,
      "outputs": [
        {
          "name": "stdout",
          "output_type": "stream",
          "text": [
            "Digite um número qualquer 8\n"
          ]
        }
      ]
    },
    {
      "cell_type": "markdown",
      "source": [
        "# Número 5"
      ],
      "metadata": {
        "id": "PUCESwEJFgX1"
      }
    },
    {
      "cell_type": "code",
      "source": [
        "#Crie um algoritmo que verifica se um número é par ou ímpar.\n",
        "\n",
        "poui = float(input('Digite um número qualquer '))\n",
        "\n",
        "def parImpar(poui):\n",
        "  if num % 2 == 0:\n",
        "    return 'par'\n",
        "  else:\n",
        "    return 'impar'\n",
        "\n",
        "print(parImpar(poui))"
      ],
      "metadata": {
        "colab": {
          "base_uri": "https://localhost:8080/"
        },
        "id": "nF_PVr9AFjAP",
        "outputId": "59b30b24-e39d-4763-d772-af95f863af68"
      },
      "execution_count": null,
      "outputs": [
        {
          "output_type": "stream",
          "name": "stdout",
          "text": [
            "Digite um número qualquer 4\n",
            "par\n"
          ]
        }
      ]
    }
  ]
}