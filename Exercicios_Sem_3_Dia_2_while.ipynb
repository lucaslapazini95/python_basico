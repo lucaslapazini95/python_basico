{
  "nbformat": 4,
  "nbformat_minor": 0,
  "metadata": {
    "colab": {
      "provenance": [],
      "authorship_tag": "ABX9TyOlR/EinE6R+4HZp2CxZvPE",
      "include_colab_link": true
    },
    "kernelspec": {
      "name": "python3",
      "display_name": "Python 3"
    },
    "language_info": {
      "name": "python"
    }
  },
  "cells": [
    {
      "cell_type": "markdown",
      "metadata": {
        "id": "view-in-github",
        "colab_type": "text"
      },
      "source": [
        "<a href=\"https://colab.research.google.com/github/lucaslapazini95/python_basico/blob/main/Exercicios_Sem_3_Dia_2_while.ipynb\" target=\"_parent\"><img src=\"https://colab.research.google.com/assets/colab-badge.svg\" alt=\"Open In Colab\"/></a>"
      ]
    },
    {
      "cell_type": "markdown",
      "source": [
        "# 1) Faça um algoritmo que imprima na tela uma sequência de 10 números pares a partir do 1."
      ],
      "metadata": {
        "id": "FtRo1yhl8cYg"
      }
    },
    {
      "cell_type": "code",
      "source": [
        "i = 0\n",
        "while i < 10:\n",
        "    print(i*2)\n",
        "    i += 1"
      ],
      "metadata": {
        "id": "GgQpheMZ8fNd",
        "colab": {
          "base_uri": "https://localhost:8080/"
        },
        "outputId": "880b3533-a6e3-4058-c79f-f506969d4fc6"
      },
      "execution_count": null,
      "outputs": [
        {
          "output_type": "stream",
          "name": "stdout",
          "text": [
            "0\n",
            "2\n",
            "4\n",
            "6\n",
            "8\n",
            "10\n",
            "12\n",
            "14\n",
            "16\n",
            "18\n"
          ]
        }
      ]
    },
    {
      "cell_type": "markdown",
      "source": [
        "# 2) Faça um programa que apresente na tela os 10 primeiros números negativos."
      ],
      "metadata": {
        "id": "dah2dRSS9IPH"
      }
    },
    {
      "cell_type": "code",
      "source": [
        "i = -1\n",
        "while i >= -10:\n",
        "    print(i)\n",
        "    i -= 1"
      ],
      "metadata": {
        "id": "USvvkVBd-FX_",
        "colab": {
          "base_uri": "https://localhost:8080/"
        },
        "outputId": "aad9e111-7d62-4c87-9fde-3302dd0f5303"
      },
      "execution_count": null,
      "outputs": [
        {
          "output_type": "stream",
          "name": "stdout",
          "text": [
            "-1\n",
            "-2\n",
            "-3\n",
            "-4\n",
            "-5\n",
            "-6\n",
            "-7\n",
            "-8\n",
            "-9\n",
            "-10\n"
          ]
        }
      ]
    },
    {
      "cell_type": "markdown",
      "source": [
        "# 3) Faça um algoritmo que leia um número positivo e imprima na tela todos os divisores desse número"
      ],
      "metadata": {
        "id": "20kVlaoi-IRm"
      }
    },
    {
      "cell_type": "code",
      "source": [
        "num = int(input('Digite um número qualquer positivo: '))\n",
        "i = 1\n",
        "while i <= num:\n",
        "    if num % i == 0:\n",
        "        print(i)\n",
        "    i += 1"
      ],
      "metadata": {
        "colab": {
          "base_uri": "https://localhost:8080/"
        },
        "id": "35fNi0P6-J_d",
        "outputId": "ec2fce32-f4c1-4747-be9d-4b7361755866"
      },
      "execution_count": null,
      "outputs": [
        {
          "output_type": "stream",
          "name": "stdout",
          "text": [
            "Digite um número: 23\n",
            "1\n",
            "23\n"
          ]
        }
      ]
    },
    {
      "cell_type": "code",
      "source": [
        "#alternativo do professor\n",
        "n = int(input('Digite um número positivo: '))\n",
        "while n < 1:\n",
        "  n = int(input('Número inválido! Digite um número positivo: '))\n",
        "\n",
        "i = 1\n",
        "while i <= n:\n",
        "  if n % i == 0:\n",
        "    print(i)\n",
        "  i += 1"
      ],
      "metadata": {
        "colab": {
          "base_uri": "https://localhost:8080/"
        },
        "id": "Q58VUU9p2FVA",
        "outputId": "81a68640-714f-496e-acad-3d92f46d229d"
      },
      "execution_count": null,
      "outputs": [
        {
          "output_type": "stream",
          "name": "stdout",
          "text": [
            "Digite um número positivo: 4\n",
            "1\n",
            "2\n",
            "4\n"
          ]
        }
      ]
    },
    {
      "cell_type": "markdown",
      "source": [
        "# 4) Faça um programa que leia N notas e mostre na tela a média das notas lidas."
      ],
      "metadata": {
        "id": "HqEy-Zh7_180"
      }
    },
    {
      "cell_type": "code",
      "source": [
        "quantia = int(input('Quantas notas deseja calcular? '))\n",
        "i = quantia\n",
        "soma = 0\n",
        "while i > 0:\n",
        "    nota = float(input('Digite a nota: '))\n",
        "    soma += nota\n",
        "    i -= 1\n",
        "print('A média das notas é: ', soma/quantia)"
      ],
      "metadata": {
        "colab": {
          "base_uri": "https://localhost:8080/"
        },
        "id": "RxzY0lrm_3i5",
        "outputId": "e58679e2-610c-420f-9260-89b2bee82322"
      },
      "execution_count": null,
      "outputs": [
        {
          "output_type": "stream",
          "name": "stdout",
          "text": [
            "Quantas notas deseja calcular? 3\n",
            "Digite a nota: 8\n",
            "Digite a nota: 9\n",
            "Digite a nota: 10\n",
            "A média das notas é:  9.0\n"
          ]
        }
      ]
    },
    {
      "cell_type": "markdown",
      "source": [
        "# Questão que veio com enunciado incompleto\n",
        "5) Escreva um algoritmo que leia um valor inicial A e uma razão R e imprima uma seqüência em P.A. contendo 10 valores."
      ],
      "metadata": {
        "id": "tgCguYz9AoK1"
      }
    },
    {
      "cell_type": "markdown",
      "source": [
        "# 6) Escrever um algoritmo que gera e escreve os números ímpares entre 100 e 200."
      ],
      "metadata": {
        "id": "IyEprG99CLpw"
      }
    },
    {
      "cell_type": "code",
      "source": [
        "i = 100\n",
        "while i <= 200:\n",
        "    if i % 2 != 0:\n",
        "        print(i)\n",
        "    i += 1"
      ],
      "metadata": {
        "colab": {
          "base_uri": "https://localhost:8080/"
        },
        "id": "_-3p3fG8CPhf",
        "outputId": "2fe3bfbf-8477-48f6-dedf-1591e30a1202"
      },
      "execution_count": null,
      "outputs": [
        {
          "output_type": "stream",
          "name": "stdout",
          "text": [
            "101\n",
            "103\n",
            "105\n",
            "107\n",
            "109\n",
            "111\n",
            "113\n",
            "115\n",
            "117\n",
            "119\n",
            "121\n",
            "123\n",
            "125\n",
            "127\n",
            "129\n",
            "131\n",
            "133\n",
            "135\n",
            "137\n",
            "139\n",
            "141\n",
            "143\n",
            "145\n",
            "147\n",
            "149\n",
            "151\n",
            "153\n",
            "155\n",
            "157\n",
            "159\n",
            "161\n",
            "163\n",
            "165\n",
            "167\n",
            "169\n",
            "171\n",
            "173\n",
            "175\n",
            "177\n",
            "179\n",
            "181\n",
            "183\n",
            "185\n",
            "187\n",
            "189\n",
            "191\n",
            "193\n",
            "195\n",
            "197\n",
            "199\n"
          ]
        }
      ]
    },
    {
      "cell_type": "markdown",
      "source": [
        "# 7) Crie uma tabuada do 1 ao 10 utilizando o comando while. Ex de saída: 1 x 0 = 0 1 x 1 = 1 1 x 2 = … 1 x 10 = 10 - 2 x 0 = 0 2 x 1 = 2 … 2 x 10 = 20"
      ],
      "metadata": {
        "id": "H0UUSqYlCwTo"
      }
    },
    {
      "cell_type": "markdown",
      "source": [
        "o contador mais externo precisa aguardar o contador mais interno para funcionar, como se fosse um ponteiro de horas que precisa aguardar o ponteiro dos minutos"
      ],
      "metadata": {
        "id": "jTUb_QTcHKLL"
      }
    },
    {
      "cell_type": "code",
      "source": [
        "i = 1\n",
        "j = 1\n",
        "while i <= 10:\n",
        "    while j <= 10:\n",
        "        print(i, 'x', j, '=', i*j)\n",
        "        j += 1\n",
        "    i += 1"
      ],
      "metadata": {
        "colab": {
          "base_uri": "https://localhost:8080/"
        },
        "id": "N5s0ohP4DLuy",
        "outputId": "c7fa2767-ad8f-4389-c169-8b91382e36f2"
      },
      "execution_count": null,
      "outputs": [
        {
          "output_type": "stream",
          "name": "stdout",
          "text": [
            "1 x 1 = 1\n",
            "1 x 2 = 2\n",
            "1 x 3 = 3\n",
            "1 x 4 = 4\n",
            "1 x 5 = 5\n",
            "1 x 6 = 6\n",
            "1 x 7 = 7\n",
            "1 x 8 = 8\n",
            "1 x 9 = 9\n",
            "1 x 10 = 10\n",
            "2 x 1 = 2\n",
            "2 x 2 = 4\n",
            "2 x 3 = 6\n",
            "2 x 4 = 8\n",
            "2 x 5 = 10\n",
            "2 x 6 = 12\n",
            "2 x 7 = 14\n",
            "2 x 8 = 16\n",
            "2 x 9 = 18\n",
            "2 x 10 = 20\n",
            "3 x 1 = 3\n",
            "3 x 2 = 6\n",
            "3 x 3 = 9\n",
            "3 x 4 = 12\n",
            "3 x 5 = 15\n",
            "3 x 6 = 18\n",
            "3 x 7 = 21\n",
            "3 x 8 = 24\n",
            "3 x 9 = 27\n",
            "3 x 10 = 30\n",
            "4 x 1 = 4\n",
            "4 x 2 = 8\n",
            "4 x 3 = 12\n",
            "4 x 4 = 16\n",
            "4 x 5 = 20\n",
            "4 x 6 = 24\n",
            "4 x 7 = 28\n",
            "4 x 8 = 32\n",
            "4 x 9 = 36\n",
            "4 x 10 = 40\n",
            "5 x 1 = 5\n",
            "5 x 2 = 10\n",
            "5 x 3 = 15\n",
            "5 x 4 = 20\n",
            "5 x 5 = 25\n",
            "5 x 6 = 30\n",
            "5 x 7 = 35\n",
            "5 x 8 = 40\n",
            "5 x 9 = 45\n",
            "5 x 10 = 50\n",
            "6 x 1 = 6\n",
            "6 x 2 = 12\n",
            "6 x 3 = 18\n",
            "6 x 4 = 24\n",
            "6 x 5 = 30\n",
            "6 x 6 = 36\n",
            "6 x 7 = 42\n",
            "6 x 8 = 48\n",
            "6 x 9 = 54\n",
            "6 x 10 = 60\n",
            "7 x 1 = 7\n",
            "7 x 2 = 14\n",
            "7 x 3 = 21\n",
            "7 x 4 = 28\n",
            "7 x 5 = 35\n",
            "7 x 6 = 42\n",
            "7 x 7 = 49\n",
            "7 x 8 = 56\n",
            "7 x 9 = 63\n",
            "7 x 10 = 70\n",
            "8 x 1 = 8\n",
            "8 x 2 = 16\n",
            "8 x 3 = 24\n",
            "8 x 4 = 32\n",
            "8 x 5 = 40\n",
            "8 x 6 = 48\n",
            "8 x 7 = 56\n",
            "8 x 8 = 64\n",
            "8 x 9 = 72\n",
            "8 x 10 = 80\n",
            "9 x 1 = 9\n",
            "9 x 2 = 18\n",
            "9 x 3 = 27\n",
            "9 x 4 = 36\n",
            "9 x 5 = 45\n",
            "9 x 6 = 54\n",
            "9 x 7 = 63\n",
            "9 x 8 = 72\n",
            "9 x 9 = 81\n",
            "9 x 10 = 90\n",
            "10 x 1 = 10\n",
            "10 x 2 = 20\n",
            "10 x 3 = 30\n",
            "10 x 4 = 40\n",
            "10 x 5 = 50\n",
            "10 x 6 = 60\n",
            "10 x 7 = 70\n",
            "10 x 8 = 80\n",
            "10 x 9 = 90\n",
            "10 x 10 = 100\n"
          ]
        }
      ]
    },
    {
      "cell_type": "markdown",
      "source": [
        "# 8) Desenvolver um algoritmo que leia um número não determinado de valores e que, em seguida, calcule a média aritmética dos valores lidos, exiba a quantidade de valores positivos, exiba a quantidade de valores negativos e exiba o percentual de valores negativos e positivos."
      ],
      "metadata": {
        "id": "V8Tw94U2DYiN"
      }
    },
    {
      "cell_type": "code",
      "source": [
        "soma = 0\n",
        "quantidade = 0\n",
        "positivos = 0\n",
        "negativos = 0\n",
        "percentual_positivos = 0\n",
        "percentual_negativos = 0\n",
        "while True:\n",
        "    numero = float(input('Digite um número: '))\n",
        "    if numero == 0:\n",
        "        quantidade += 1\n",
        "    elif numero > 0:\n",
        "        positivos += 1\n",
        "        quantidade += 1\n",
        "    else:\n",
        "        negativos += 1\n",
        "        quantidade += 1\n",
        "    soma += numero\n",
        "    continuar = input('Deseja continuar? [S/N] ')\n",
        "    #if continuar.lower() == 'n':\n",
        "    if continuar in 'Nn':\n",
        "        break\n",
        "media = soma / quantidade\n",
        "percentual_positivos = (positivos * 100) / quantidade\n",
        "percentual_negativos = (negativos * 100) / quantidade\n",
        "print(f'A média aritmética dos números digitados é {media:.2f}')\n",
        "print(f'A quantidade de números positivos é {positivos}')\n",
        "print(f'A quantidade de números negativos é {negativos}')\n",
        "print(f'O percentual de números positivos é {percentual_positivos:.2f}%')\n",
        "print(f'O percentual de números negativos é {percentual_negativos:.2f}%')"
      ],
      "metadata": {
        "colab": {
          "base_uri": "https://localhost:8080/"
        },
        "id": "oGI18snzEDeL",
        "outputId": "1b2d228d-ea9e-4b09-e592-2ff97465c057"
      },
      "execution_count": null,
      "outputs": [
        {
          "output_type": "stream",
          "name": "stdout",
          "text": [
            "Digite um número: 45\n",
            "Deseja continuar? [S/N] s\n",
            "Digite um número: 45\n",
            "Deseja continuar? [S/N] s\n",
            "Digite um número: -90\n",
            "Deseja continuar? [S/N] n\n",
            "A média dos números digitados é 0.00\n",
            "A quantidade de números positivos é 2\n",
            "A quantidade de números negativos é 1\n",
            "O percentual de números positivos é 66.67%\n",
            "O percentual de números negativos é 33.33%\n"
          ]
        }
      ]
    },
    {
      "cell_type": "markdown",
      "source": [
        "# 9) Escrever um algoritmo que leia uma quantidade desconhecida de números e conte quantos deles estão nos seguintes intervalos: [0-25], [26-50], [51-75] e [76-100]. A entrada de dados deve terminar quando for lido um número negativo."
      ],
      "metadata": {
        "id": "nVY1iieLM_MT"
      }
    },
    {
      "cell_type": "code",
      "source": [
        "inter0_25 = 0\n",
        "inter26_50 = 0\n",
        "inter51_75 = 0\n",
        "inter76_100 = 0\n",
        "i = 0\n",
        "while i >= 0:\n",
        "    i = int(input(\"Digite um número: \"))\n",
        "    if i >= 0 and i <= 25:\n",
        "        inter0_25 += 1\n",
        "    elif i >= 26 and i <= 50:\n",
        "        inter26_50 += 1\n",
        "    elif i >= 51 and i <= 75:\n",
        "        inter51_75 += 1\n",
        "    elif i >= 76 and i <= 100:\n",
        "        inter76_100 += 1\n",
        "print(\"Quantidade de números entre 0 e 25: \", inter0_25)\n",
        "print(\"Quantidade de números entre 26 e 50: \", inter26_50)\n",
        "print(\"Quantidade de números entre 51 e 75: \", inter51_75)\n",
        "print(\"Quantidade de números entre 76 e 100: \", inter76_100)"
      ],
      "metadata": {
        "id": "XW5pbiC5N5p8"
      },
      "execution_count": null,
      "outputs": []
    },
    {
      "cell_type": "markdown",
      "source": [
        "# 10) Escreva um algoritmo que leia um valor inicial A e imprima a sequência dos valores de A fatorial. Ex: 5! = 5 X 4 X 3 X 2 X 1 = 120"
      ],
      "metadata": {
        "id": "pWf7eP5KOkKN"
      }
    },
    {
      "cell_type": "code",
      "source": [
        "n = int(input('Digite um valor: '))\n",
        "fatorial = 1\n",
        "print(f'Calculando {n}! = ', end='')\n",
        "while n > 0:\n",
        "    print(f'{n}', end='')\n",
        "    print(' x ' if n > 1 else ' = ', end='')\n",
        "    fatorial *= n\n",
        "    n -= 1\n",
        "print('{}'.format(fatorial))"
      ],
      "metadata": {
        "colab": {
          "base_uri": "https://localhost:8080/"
        },
        "id": "dDD-94WVQEhG",
        "outputId": "c28edb19-80ad-422f-8d1e-c7548436b1ae"
      },
      "execution_count": null,
      "outputs": [
        {
          "output_type": "stream",
          "name": "stdout",
          "text": [
            "Digite um valor: 7\n",
            "Calculando 7! = 7 x 6 x 5 x 4 x 3 x 2 x 1 = 5040\n"
          ]
        }
      ]
    }
  ]
}