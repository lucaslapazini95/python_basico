{
  "nbformat": 4,
  "nbformat_minor": 0,
  "metadata": {
    "colab": {
      "provenance": [],
      "authorship_tag": "ABX9TyM1U5JDzS6Qy4xzToTmETdP",
      "include_colab_link": true
    },
    "kernelspec": {
      "name": "python3",
      "display_name": "Python 3"
    },
    "language_info": {
      "name": "python"
    }
  },
  "cells": [
    {
      "cell_type": "markdown",
      "metadata": {
        "id": "view-in-github",
        "colab_type": "text"
      },
      "source": [
        "<a href=\"https://colab.research.google.com/github/lucaslapazini95/python_basico/blob/main/Exercicios_Sem_3_Dia_3_for.ipynb\" target=\"_parent\"><img src=\"https://colab.research.google.com/assets/colab-badge.svg\" alt=\"Open In Colab\"/></a>"
      ]
    },
    {
      "cell_type": "markdown",
      "source": [
        "#3) Faça um programa que leia 10 números inteiros positivos e mostre, no final, a soma dos números pares e a soma dos números ímpares."
      ],
      "metadata": {
        "id": "um9fn0kJUq-r"
      }
    },
    {
      "cell_type": "code",
      "source": [
        "soma_par = 0\n",
        "soma_impar = 0\n",
        "for i in range(11):\n",
        "  print (i)\n",
        "  if i % 2 == 0:\n",
        "    soma_par+=i\n",
        "  else:\n",
        "    soma_impar+=i\n",
        "print(f'soma pares {soma_par}')\n",
        "print(f'soma ímpares {soma_impar}')"
      ],
      "metadata": {
        "colab": {
          "base_uri": "https://localhost:8080/"
        },
        "id": "LoBeGnR1UuQv",
        "outputId": "04a12b3a-8f7f-4ca2-af0d-916aa731f409"
      },
      "execution_count": null,
      "outputs": [
        {
          "output_type": "stream",
          "name": "stdout",
          "text": [
            "0\n",
            "1\n",
            "2\n",
            "3\n",
            "4\n",
            "5\n",
            "6\n",
            "7\n",
            "8\n",
            "9\n",
            "10\n",
            "soma pares 30\n",
            "soma ímpares 25\n"
          ]
        }
      ]
    },
    {
      "cell_type": "markdown",
      "source": [
        "# 4) Crie um programa que leia 10 números e informe na tela o maior e o menor número lido."
      ],
      "metadata": {
        "id": "yyZDEh-fWPhS"
      }
    },
    {
      "cell_type": "code",
      "source": [
        "maior = -99999999\n",
        "menor = 99999999\n",
        "for i in range(5):\n",
        "  while True:\n",
        "    num = input('Digite um número inteiro qualquer: ')\n",
        "    if num.isdigit():\n",
        "      num = int(num)\n",
        "      break\n",
        "    else:\n",
        "      print (\"Valor inválido, tente novamente.\")\n",
        "  if num >= maior:\n",
        "    maior = num\n",
        "  elif num <= menor:\n",
        "    menor = num\n",
        "print(f'menor valor lido: {menor}')\n",
        "print(f'maior valor lido: {maior}')"
      ],
      "metadata": {
        "colab": {
          "base_uri": "https://localhost:8080/"
        },
        "id": "ewYKtKxTWbZ-",
        "outputId": "4cfc147f-2194-46cb-bd84-33874db0948a"
      },
      "execution_count": null,
      "outputs": [
        {
          "output_type": "stream",
          "name": "stdout",
          "text": [
            "Digite um número inteiro qualquer: 48\n",
            "Digite um número inteiro qualquer: 19\n",
            "Digite um número inteiro qualquer: 6\n",
            "Digite um número inteiro qualquer: 8\n",
            "Digite um número inteiro qualquer: 18\n",
            "menor valor lido: 6\n",
            "maior valor lido: 48\n"
          ]
        }
      ]
    },
    {
      "cell_type": "code",
      "source": [
        "for i in range (5):\n",
        "  n = int(input(f'Digite o {i+1} número: '))\n",
        "\n",
        "  if i == 0:\n",
        "    maior = n\n",
        "    menor = n\n",
        "  elif n > maior:\n",
        "    maior = n\n",
        "  elif n < menor:\n",
        "    menor = n\n",
        "\n",
        "print(f'O maior número digitado foi {maior}')\n",
        "print(f'O maior número digitado foi {menor}')"
      ],
      "metadata": {
        "id": "n4LNAsvy-3tZ"
      },
      "execution_count": null,
      "outputs": []
    },
    {
      "cell_type": "markdown",
      "source": [
        "#5) Em uma turma há 10 alunos. Cada aluno tem 2 notas. Um professor precisa calcular a média das duas notas de cada aluno. Crie um programa que resolva este problema."
      ],
      "metadata": {
        "id": "FZP5OHYUaWEk"
      }
    },
    {
      "cell_type": "code",
      "source": [
        "for i in range(1,6):\n",
        "  media_aluno= 0\n",
        "  while True:\n",
        "    nota = input('Digite a primeira nota do aluno: ')\n",
        "    if nota.isdigit():\n",
        "      nota = float(nota)\n",
        "      media_aluno += nota\n",
        "      break\n",
        "    else:\n",
        "      print('Erro! Digite uma nota: ')\n",
        "  while True:\n",
        "    nota = input('Digite a segunda nota do aluno: ')\n",
        "    if nota.isdigit():\n",
        "      nota = float(nota)\n",
        "      media_aluno += nota\n",
        "      break\n",
        "    else:\n",
        "      print('Erro! Digite uma nota: ')\n",
        "  print(f'Média do {i}º aluno: {media_aluno/2}')"
      ],
      "metadata": {
        "colab": {
          "base_uri": "https://localhost:8080/"
        },
        "id": "RtwL3h89aYmi",
        "outputId": "88b76d3d-b5b9-472b-c09c-76a5337be659"
      },
      "execution_count": null,
      "outputs": [
        {
          "output_type": "stream",
          "name": "stdout",
          "text": [
            "Digite a primeira nota do aluno: 8\n",
            "Digite a segunda nota do aluno: 9\n",
            "Média do 1º aluno: 8.5\n",
            "Digite a primeira nota do aluno: 9\n",
            "Digite a segunda nota do aluno: 7\n",
            "Média do 2º aluno: 8.0\n",
            "Digite a primeira nota do aluno: 7.5\n",
            "Erro! Digite uma nota: \n",
            "Digite a primeira nota do aluno: 8\n",
            "Digite a segunda nota do aluno: 7,9\n",
            "Erro! Digite uma nota: \n",
            "Digite a segunda nota do aluno: 7.9\n",
            "Erro! Digite uma nota: \n",
            "Digite a segunda nota do aluno: 9\n",
            "Média do 3º aluno: 8.5\n",
            "Digite a primeira nota do aluno: 97\n",
            "Digite a segunda nota do aluno: 19\n",
            "Média do 4º aluno: 58.0\n",
            "Digite a primeira nota do aluno: 49\n",
            "Digite a segunda nota do aluno: 98\n",
            "Média do 5º aluno: 73.5\n"
          ]
        }
      ]
    },
    {
      "cell_type": "code",
      "source": [
        "#resolução que o chatGPT me apresentou\n",
        "for i in range(5):\n",
        "  print(f\"Notas do aluno {i+1}:\")\n",
        "  while True:\n",
        "    try:\n",
        "      nota1 = float(input(\"Primeira nota: \"))\n",
        "      nota2 = float(input(\"Segunda nota: \"))\n",
        "      break\n",
        "    except ValueError:\n",
        "      print(\"Valor inválido. Digite apenas números.\")\n",
        "  media = (nota1 + nota2)/2\n",
        "  print(f\"Média do aluno {i+1}: {media}\")"
      ],
      "metadata": {
        "colab": {
          "base_uri": "https://localhost:8080/",
          "height": 397
        },
        "id": "Ngp17ck6eThC",
        "outputId": "d4c50a2a-673d-402f-a0af-3a850bf0c4ad"
      },
      "execution_count": null,
      "outputs": [
        {
          "output_type": "stream",
          "name": "stdout",
          "text": [
            "Notas do aluno 1:\n"
          ]
        },
        {
          "output_type": "error",
          "ename": "KeyboardInterrupt",
          "evalue": "ignored",
          "traceback": [
            "\u001b[0;31m---------------------------------------------------------------------------\u001b[0m",
            "\u001b[0;31mKeyboardInterrupt\u001b[0m                         Traceback (most recent call last)",
            "\u001b[0;32m<ipython-input-1-5e837dd03490>\u001b[0m in \u001b[0;36m<module>\u001b[0;34m\u001b[0m\n\u001b[1;32m      4\u001b[0m   \u001b[0;32mwhile\u001b[0m \u001b[0;32mTrue\u001b[0m\u001b[0;34m:\u001b[0m\u001b[0;34m\u001b[0m\u001b[0;34m\u001b[0m\u001b[0m\n\u001b[1;32m      5\u001b[0m     \u001b[0;32mtry\u001b[0m\u001b[0;34m:\u001b[0m\u001b[0;34m\u001b[0m\u001b[0;34m\u001b[0m\u001b[0m\n\u001b[0;32m----> 6\u001b[0;31m       \u001b[0mnota1\u001b[0m \u001b[0;34m=\u001b[0m \u001b[0mfloat\u001b[0m\u001b[0;34m(\u001b[0m\u001b[0minput\u001b[0m\u001b[0;34m(\u001b[0m\u001b[0;34m\"Primeira nota: \"\u001b[0m\u001b[0;34m)\u001b[0m\u001b[0;34m)\u001b[0m\u001b[0;34m\u001b[0m\u001b[0;34m\u001b[0m\u001b[0m\n\u001b[0m\u001b[1;32m      7\u001b[0m       \u001b[0mnota2\u001b[0m \u001b[0;34m=\u001b[0m \u001b[0mfloat\u001b[0m\u001b[0;34m(\u001b[0m\u001b[0minput\u001b[0m\u001b[0;34m(\u001b[0m\u001b[0;34m\"Segunda nota: \"\u001b[0m\u001b[0;34m)\u001b[0m\u001b[0;34m)\u001b[0m\u001b[0;34m\u001b[0m\u001b[0;34m\u001b[0m\u001b[0m\n\u001b[1;32m      8\u001b[0m       \u001b[0;32mbreak\u001b[0m\u001b[0;34m\u001b[0m\u001b[0;34m\u001b[0m\u001b[0m\n",
            "\u001b[0;32m/usr/local/lib/python3.8/dist-packages/ipykernel/kernelbase.py\u001b[0m in \u001b[0;36mraw_input\u001b[0;34m(self, prompt)\u001b[0m\n\u001b[1;32m    858\u001b[0m                 \u001b[0;34m\"raw_input was called, but this frontend does not support input requests.\"\u001b[0m\u001b[0;34m\u001b[0m\u001b[0;34m\u001b[0m\u001b[0m\n\u001b[1;32m    859\u001b[0m             )\n\u001b[0;32m--> 860\u001b[0;31m         return self._input_request(str(prompt),\n\u001b[0m\u001b[1;32m    861\u001b[0m             \u001b[0mself\u001b[0m\u001b[0;34m.\u001b[0m\u001b[0m_parent_ident\u001b[0m\u001b[0;34m,\u001b[0m\u001b[0;34m\u001b[0m\u001b[0;34m\u001b[0m\u001b[0m\n\u001b[1;32m    862\u001b[0m             \u001b[0mself\u001b[0m\u001b[0;34m.\u001b[0m\u001b[0m_parent_header\u001b[0m\u001b[0;34m,\u001b[0m\u001b[0;34m\u001b[0m\u001b[0;34m\u001b[0m\u001b[0m\n",
            "\u001b[0;32m/usr/local/lib/python3.8/dist-packages/ipykernel/kernelbase.py\u001b[0m in \u001b[0;36m_input_request\u001b[0;34m(self, prompt, ident, parent, password)\u001b[0m\n\u001b[1;32m    902\u001b[0m             \u001b[0;32mexcept\u001b[0m \u001b[0mKeyboardInterrupt\u001b[0m\u001b[0;34m:\u001b[0m\u001b[0;34m\u001b[0m\u001b[0;34m\u001b[0m\u001b[0m\n\u001b[1;32m    903\u001b[0m                 \u001b[0;31m# re-raise KeyboardInterrupt, to truncate traceback\u001b[0m\u001b[0;34m\u001b[0m\u001b[0;34m\u001b[0m\u001b[0;34m\u001b[0m\u001b[0m\n\u001b[0;32m--> 904\u001b[0;31m                 \u001b[0;32mraise\u001b[0m \u001b[0mKeyboardInterrupt\u001b[0m\u001b[0;34m(\u001b[0m\u001b[0;34m\"Interrupted by user\"\u001b[0m\u001b[0;34m)\u001b[0m \u001b[0;32mfrom\u001b[0m \u001b[0;32mNone\u001b[0m\u001b[0;34m\u001b[0m\u001b[0;34m\u001b[0m\u001b[0m\n\u001b[0m\u001b[1;32m    905\u001b[0m             \u001b[0;32mexcept\u001b[0m \u001b[0mException\u001b[0m \u001b[0;32mas\u001b[0m \u001b[0me\u001b[0m\u001b[0;34m:\u001b[0m\u001b[0;34m\u001b[0m\u001b[0;34m\u001b[0m\u001b[0m\n\u001b[1;32m    906\u001b[0m                 \u001b[0mself\u001b[0m\u001b[0;34m.\u001b[0m\u001b[0mlog\u001b[0m\u001b[0;34m.\u001b[0m\u001b[0mwarning\u001b[0m\u001b[0;34m(\u001b[0m\u001b[0;34m\"Invalid Message:\"\u001b[0m\u001b[0;34m,\u001b[0m \u001b[0mexc_info\u001b[0m\u001b[0;34m=\u001b[0m\u001b[0;32mTrue\u001b[0m\u001b[0;34m)\u001b[0m\u001b[0;34m\u001b[0m\u001b[0;34m\u001b[0m\u001b[0m\n",
            "\u001b[0;31mKeyboardInterrupt\u001b[0m: Interrupted by user"
          ]
        }
      ]
    },
    {
      "cell_type": "code",
      "source": [
        "#resolução do professor\n",
        "\n",
        "for i in range(5):\n",
        "  soma_notas = 0\n",
        "  for j in range(2):\n",
        "    nota = float(input(f'Digite a {j + 1}ª nota do aluno {i + 1}: '))\n",
        "\n",
        "    while nota < 0 or nota > 10:\n",
        "      nota = float(input(f'Digite a {j + 1}ª nota do aluno {i + 1}: '))\n",
        "    soma_notas = soma_notas + nota\n",
        "  media_notas = soma_notas / 2\n",
        "  print(f'A média do aluno {i+1} foi {media_notas}')"
      ],
      "metadata": {
        "id": "uTrLUUYpCmo1"
      },
      "execution_count": null,
      "outputs": []
    },
    {
      "cell_type": "markdown",
      "source": [
        "#6) Digitados dois números (base e expoente), calcule o resultado  da potência utilizando apenas operadores básicos da matemática (soma, subtração, multiplicação ou divisão) e o comando FOR;"
      ],
      "metadata": {
        "id": "ATKP14kve5B3"
      }
    },
    {
      "cell_type": "code",
      "source": [
        "base = int(input(\"Digite a base: \"))\n",
        "expoente = int(input(\"Digite o expoente: \"))\n",
        "\n",
        "resultado = 1\n",
        "\n",
        "for i in range(expoente):\n",
        "    resultado *= base\n",
        "\n",
        "print(f\"{base} elevado a {expoente} é igual a {resultado}\")"
      ],
      "metadata": {
        "colab": {
          "base_uri": "https://localhost:8080/"
        },
        "id": "B3QpKznVekIx",
        "outputId": "46aa36db-cfd6-4193-f4d1-ed80c24f7f7d"
      },
      "execution_count": null,
      "outputs": [
        {
          "output_type": "stream",
          "name": "stdout",
          "text": [
            "Digite a base: 2\n",
            "Digite o expoente: 5\n",
            "2 elevado a 5 é igual a 32\n"
          ]
        }
      ]
    },
    {
      "cell_type": "code",
      "source": [
        "#resolução do professor\n",
        "\n",
        "base = int(input('Digite o valor da base: '))\n",
        "exp = int(input('Digite o valor do expoente: '))\n",
        "\n",
        "resultado = 1\n",
        "\n",
        "for i in range(exp):\n",
        "  resultado = resultado * base\n",
        "\n",
        "print(resultado)"
      ],
      "metadata": {
        "id": "O7WqsTakGE3g"
      },
      "execution_count": null,
      "outputs": []
    },
    {
      "cell_type": "markdown",
      "source": [
        "#7) Dado um número n inteiro e positivo, dizemos que n é perfeito se n for igual à soma de seus divisores positivos diferentes de n. Construa um programa em python que verifica se um dado número é perfeito. Ex: 6 é perfeito, pois 1 + 2 + 3 = 6."
      ],
      "metadata": {
        "id": "3jF5OURGfLGG"
      }
    },
    {
      "cell_type": "code",
      "source": [
        "verifica = 0\n",
        "while True:\n",
        "  try:\n",
        "    numero = int(input(\"Digite um número inteiro positivo: \"))\n",
        "    break\n",
        "  except ValueError:\n",
        "    print(\"Valor inválido. Digite apenas números inteiros positivos.\")\n",
        "for i in range (1,numero+1):\n",
        "  if (numero % i) == 0 and (i != numero):\n",
        "    verifica += i\n",
        "if verifica == numero:\n",
        "  print (f'{numero} é um N perfeito')\n",
        "else:\n",
        "  print (f'{numero} não é um N perfeito')"
      ],
      "metadata": {
        "colab": {
          "base_uri": "https://localhost:8080/"
        },
        "id": "j30_MiuJfPK2",
        "outputId": "db364646-c6d7-4edc-cdc8-18ee392ef837"
      },
      "execution_count": null,
      "outputs": [
        {
          "name": "stdout",
          "output_type": "stream",
          "text": [
            "Digite um número inteiro: 4\n"
          ]
        }
      ]
    },
    {
      "cell_type": "code",
      "source": [
        "#resolução do professor\n",
        "\n",
        "verifica = 0\n",
        "while True:\n",
        "  try:\n",
        "    numero = int(input(\"Digite um número inteiro positivo: \"))\n",
        "    break\n",
        "  except ValueError:\n",
        "    print(\"Valor inválido. Digite apenas números inteiros positivos.\")\n",
        "for i in range (1,numero):\n",
        "  if (numero % i) == 0:\n",
        "    verifica += i\n",
        "if verifica == numero:\n",
        "  print (f'{numero} é um N perfeito')\n",
        "else:\n",
        "  print (f'{numero} não é um N perfeito')"
      ],
      "metadata": {
        "id": "PeTJ-NY9HTMn"
      },
      "execution_count": null,
      "outputs": []
    },
    {
      "cell_type": "markdown",
      "source": [
        "#8) Escreva um programa em Python que leia um número inteiro positivo e diga se o número informado é primo"
      ],
      "metadata": {
        "id": "3GE4mskvfPsG"
      }
    },
    {
      "cell_type": "code",
      "source": [
        "recebe = 0\n",
        "while True:\n",
        "  try:\n",
        "    numero = int(input(\"Digite um número inteiro positivo: \"))\n",
        "    break\n",
        "  except ValueError:\n",
        "    print(\"Valor inválido. Digite apenas números inteiros positivos:\")\n",
        "for i in range(1, numero+1):\n",
        "  if numero % i == 0:\n",
        "    recebe += 1\n",
        "if recebe == 2:\n",
        "  print(f'{numero} é um número primo')"
      ],
      "metadata": {
        "colab": {
          "base_uri": "https://localhost:8080/"
        },
        "id": "VDdMYCcHfSFy",
        "outputId": "97ddb568-969c-4812-aadd-15d989f9276b"
      },
      "execution_count": null,
      "outputs": [
        {
          "output_type": "stream",
          "name": "stdout",
          "text": [
            "Digite um número inteiro positivo: 2\n",
            "2 é um número primo\n"
          ]
        }
      ]
    },
    {
      "cell_type": "code",
      "source": [
        "#minha resolução com revisão\n",
        "\n",
        "divisores = 0\n",
        "\n",
        "numero = int(input(\"Digite um número inteiro positivo: \"))\n",
        "\n",
        "for i in range(1, numero+1):\n",
        "  if numero % i == 0:\n",
        "    divisores += 1\n",
        "\n",
        "if divisores == 2:\n",
        "  print(f'{numero} é um número primo')\n",
        "else:\n",
        "  print(f'Não é número primo')"
      ],
      "metadata": {
        "colab": {
          "base_uri": "https://localhost:8080/"
        },
        "id": "Bqp2yRsrLCoB",
        "outputId": "2dfe2925-dfc2-4e64-ba25-f46039ff8f63"
      },
      "execution_count": null,
      "outputs": [
        {
          "output_type": "stream",
          "name": "stdout",
          "text": [
            "Digite um número inteiro positivo: 5\n",
            "5 é um número primo\n"
          ]
        }
      ]
    },
    {
      "cell_type": "code",
      "source": [
        "# for .....\n",
        "\n",
        "# else:\n",
        "#   print('Terminou!')\n",
        "\n",
        "# o código acima só roda se toda repetição acontecer, caso contrário (breaK),\n",
        "# ele não retorna o print"
      ],
      "metadata": {
        "id": "BTZuXd1GLDgl"
      },
      "execution_count": null,
      "outputs": []
    }
  ]
}