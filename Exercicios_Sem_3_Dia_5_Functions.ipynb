{
  "nbformat": 4,
  "nbformat_minor": 0,
  "metadata": {
    "colab": {
      "provenance": [],
      "authorship_tag": "ABX9TyNF64sfnwiLHftKfR5+chp5",
      "include_colab_link": true
    },
    "kernelspec": {
      "name": "python3",
      "display_name": "Python 3"
    },
    "language_info": {
      "name": "python"
    }
  },
  "cells": [
    {
      "cell_type": "markdown",
      "metadata": {
        "id": "view-in-github",
        "colab_type": "text"
      },
      "source": [
        "<a href=\"https://colab.research.google.com/github/lucaslapazini95/python_basico/blob/main/Exercicios_Sem_3_Dia_5_Functions.ipynb\" target=\"_parent\"><img src=\"https://colab.research.google.com/assets/colab-badge.svg\" alt=\"Open In Colab\"/></a>"
      ]
    },
    {
      "cell_type": "markdown",
      "source": [
        "# 1) Faça um programa, com uma função que necessite de três argumentos, e que forneça a multiplicação desses três argumentos."
      ],
      "metadata": {
        "id": "m7wWeOXajOz-"
      }
    },
    {
      "cell_type": "code",
      "source": [
        "def multiplicacao(a, b, c):\n",
        "    return a * b * c\n",
        "\n",
        "print(multiplicacao(2, 3, 4))"
      ],
      "metadata": {
        "id": "iIU_DyThkXHN"
      },
      "execution_count": null,
      "outputs": []
    },
    {
      "cell_type": "markdown",
      "source": [
        "# 2) Faça um programa que tenha uma função que necessite de um argumento que receba um número inteiro e imprima na tela a lista de divisores desse número."
      ],
      "metadata": {
        "id": "LFgtOPnNk8C0"
      }
    },
    {
      "cell_type": "code",
      "source": [
        "def divisores(n):\n",
        "    for i in range(1, n + 1):\n",
        "        if n % i == 0:\n",
        "            print(i)\n",
        "\n",
        "divisores(10)"
      ],
      "metadata": {
        "id": "jVmqpvbVk4et"
      },
      "execution_count": null,
      "outputs": []
    },
    {
      "cell_type": "markdown",
      "source": [
        "# 3) Faça uma função que recebe, por parâmetro, a altura (alt) e o sexo de uma pessoa e retorna o seu peso ideal. Para homens, calcular o peso ideal usando a fórmula peso ideal = 72.7 x alt - 58 e, para mulheres, peso ideal = 62.1 x alt - 44.7."
      ],
      "metadata": {
        "id": "vxsXdNeilAXf"
      }
    },
    {
      "cell_type": "code",
      "source": [
        "def peso_ideal(alt, sexo):\n",
        "    if sexo == 'M':\n",
        "        return 72.7 * alt - 58\n",
        "    elif sexo == 'F':\n",
        "        return 62.1 * alt - 44.7\n",
        "    else:\n",
        "        return 'Sexo inválido'\n",
        "\n",
        "print(peso_ideal(1.70, 'M'))\n",
        "print(peso_ideal(1.70, 'F'))\n",
        "print(peso_ideal(1.70, 'X'))"
      ],
      "metadata": {
        "id": "5zZpia0Wlhld"
      },
      "execution_count": null,
      "outputs": []
    }
  ]
}